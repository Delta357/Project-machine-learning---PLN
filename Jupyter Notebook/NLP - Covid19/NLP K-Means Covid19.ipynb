{
 "cells": [
  {
   "cell_type": "code",
   "execution_count": null,
   "metadata": {},
   "outputs": [],
   "source": [
    "import numpy as np\n",
    "import zipfile\n",
    "import pandas as pd\n",
    "import glob\n",
    "import json\n",
    "import seaborn as sns\n",
    "import spacy\n",
    "import nltk\n",
    "from IPython.core.display import HTML\n",
    "from matplotlib import pyplot as plt"
   ]
  },
  {
   "cell_type": "code",
   "execution_count": null,
   "metadata": {},
   "outputs": [],
   "source": [
    "dados = pd.read_csv(\"Dados/corona_df_completo.csv\")\n",
    "dados.head()"
   ]
  },
  {
   "cell_type": "code",
   "execution_count": null,
   "metadata": {},
   "outputs": [],
   "source": [
    "dados.shape"
   ]
  },
  {
   "cell_type": "code",
   "execution_count": null,
   "metadata": {},
   "outputs": [],
   "source": [
    "dados.dropna()"
   ]
  },
  {
   "cell_type": "code",
   "execution_count": null,
   "metadata": {},
   "outputs": [],
   "source": [
    "dados_covid = dados.dropna()\n",
    "dados_covid.shape"
   ]
  },
  {
   "cell_type": "code",
   "execution_count": null,
   "metadata": {},
   "outputs": [],
   "source": [
    "df = pd.set_option(\"display.max_colwidth\", 100)\n",
    "dados_covid.head()"
   ]
  },
  {
   "cell_type": "markdown",
   "metadata": {},
   "source": [
    "# TF - IDF"
   ]
  },
  {
   "cell_type": "code",
   "execution_count": null,
   "metadata": {},
   "outputs": [],
   "source": [
    "from sklearn.feature_extraction.text import TfidfVectorizer\n",
    "\n",
    "dataset = dados_covid[\"text\"].tolist()\n",
    "dataset"
   ]
  },
  {
   "cell_type": "code",
   "execution_count": null,
   "metadata": {},
   "outputs": [],
   "source": [
    "len(dataset)"
   ]
  },
  {
   "cell_type": "code",
   "execution_count": null,
   "metadata": {},
   "outputs": [],
   "source": [
    "2**12"
   ]
  },
  {
   "cell_type": "code",
   "execution_count": null,
   "metadata": {},
   "outputs": [],
   "source": [
    "tfidf = TfidfVectorizer(max_features = 2 ** 12)\n",
    "vect = tfidf.fit_transform(dataset)\n",
    "vect"
   ]
  },
  {
   "cell_type": "markdown",
   "metadata": {},
   "source": [
    "# PCA"
   ]
  },
  {
   "cell_type": "markdown",
   "metadata": {},
   "source": [
    "# Redução de dimensionalidade"
   ]
  },
  {
   "cell_type": "code",
   "execution_count": null,
   "metadata": {},
   "outputs": [],
   "source": [
    "from sklearn.decomposition import PCA\n",
    "\n",
    "pca = PCA(n_components = 2)\n",
    "x_pca = pca.fit_transform(vect.toarray())\n",
    "comp = pca.explained_variance_ratio_\n",
    "comp"
   ]
  },
  {
   "cell_type": "code",
   "execution_count": null,
   "metadata": {},
   "outputs": [],
   "source": [
    "x_pca.shape"
   ]
  },
  {
   "cell_type": "code",
   "execution_count": null,
   "metadata": {},
   "outputs": [],
   "source": [
    "sns.set(rc={'figure.figsize': (10,8)})\n",
    "\n",
    "sns.scatterplot(x_pca[:,0], x_pca[:, 1])\n",
    "plt.title('Covid-19 Papers', fontsize=20);"
   ]
  },
  {
   "cell_type": "markdown",
   "metadata": {},
   "source": [
    "# K-Means"
   ]
  },
  {
   "cell_type": "markdown",
   "metadata": {},
   "source": [
    "# Definição do número de clusters"
   ]
  },
  {
   "cell_type": "code",
   "execution_count": null,
   "metadata": {},
   "outputs": [],
   "source": [
    "from sklearn.cluster import MiniBatchKMeans\n",
    "\n",
    "wcss = []\n",
    "\n",
    "for i in range(1, 21):\n",
    "    kmeans = MiniBatchKMeans(n_clusters = i, random_state = 0)\n",
    "    kmeans.fit(vect)\n",
    "    wcss.append(kmeans.inertia_)\n",
    "\n",
    "plt.plot(range(1, 21), wcss)\n",
    "plt.xlabel('Número de cluster')\n",
    "plt.ylabel('WCSS')"
   ]
  },
  {
   "cell_type": "code",
   "execution_count": null,
   "metadata": {},
   "outputs": [],
   "source": [
    "k = 10\n",
    "kmeans = MiniBatchKMeans(n_clusters = k)\n",
    "y_pred = kmeans.fit_predict(vect)\n",
    "y_pred"
   ]
  },
  {
   "cell_type": "code",
   "execution_count": null,
   "metadata": {},
   "outputs": [],
   "source": [
    "np.unique(y_pred)"
   ]
  },
  {
   "cell_type": "code",
   "execution_count": null,
   "metadata": {},
   "outputs": [],
   "source": [
    "len(y_pred)"
   ]
  },
  {
   "cell_type": "code",
   "execution_count": null,
   "metadata": {},
   "outputs": [],
   "source": [
    "palette = sns.color_palette('bright', len(set(y_pred)))\n",
    "sns.scatterplot(x_pca[:,0], x_pca[:, 1], hue=y_pred, legend='full', palette=palette)\n",
    "plt.title('Clustered Covid-19 Papers');"
   ]
  },
  {
   "cell_type": "code",
   "execution_count": null,
   "metadata": {},
   "outputs": [],
   "source": [
    "# Based on: https://www.kaggle.com/maksimeren/covid-19-literature-clustering\n",
    "\n",
    "from bokeh.models import ColumnDataSource, HoverTool, LinearColorMapper, CustomJS\n",
    "from bokeh.palettes import Category20\n",
    "from bokeh.transform import linear_cmap\n",
    "from bokeh.io import output_file, show\n",
    "from bokeh.transform import transform\n",
    "from bokeh.io import output_notebook\n",
    "from bokeh.plotting import figure\n",
    "from bokeh.layouts import column\n",
    "from bokeh.models import RadioButtonGroup\n",
    "from bokeh.models import TextInput\n",
    "from bokeh.layouts import gridplot\n",
    "from bokeh.models import Div\n",
    "from bokeh.models import Paragraph\n",
    "from bokeh.layouts import column, widgetbox\n",
    "\n",
    "output_notebook()\n",
    "y_labels = y_pred\n",
    "\n",
    "# data sources\n",
    "source = ColumnDataSource(data=dict(\n",
    "    x= x_pca[:,0], \n",
    "    y= x_pca[:,1],\n",
    "    x_backup = x_pca[:,0],\n",
    "    y_backup = x_pca[:,1],\n",
    "    desc= y_labels, \n",
    "    titles= dados['title'],\n",
    "    abstract = dados['abstract'],\n",
    "    labels = [\"C-\" + str(x) for x in y_labels]\n",
    "    ))\n",
    "\n",
    "# hover over information\n",
    "hover = HoverTool(tooltips=[\n",
    "    (\"Title\", \"@titles{safe}\"),\n",
    "    (\"Abstract\", \"@abstract{safe}\"),\n",
    "],\n",
    "                 point_policy=\"follow_mouse\")\n",
    "\n",
    "# map colors\n",
    "mapper = linear_cmap(field_name='desc', \n",
    "                     palette=Category20[20],\n",
    "                     low=min(y_labels) ,high=max(y_labels))\n",
    "\n",
    "# prepare the figure\n",
    "p = figure(plot_width=800, plot_height=800, \n",
    "           tools=[hover, 'pan', 'wheel_zoom', 'box_zoom', 'reset'], \n",
    "           title=\"Covid-19 Papers\", \n",
    "           toolbar_location=\"right\")\n",
    "\n",
    "# plot\n",
    "p.scatter('x', 'y', size=5, \n",
    "          source=source,\n",
    "          fill_color=mapper,\n",
    "          line_alpha=0.3,\n",
    "          line_color=\"black\",\n",
    "          legend = 'labels')\n",
    "\n",
    "# add callback to control \n",
    "callback = CustomJS(args=dict(p=p, source=source), code=\"\"\"\n",
    "            \n",
    "            var radio_value = cb_obj.active;\n",
    "            var data = source.data; \n",
    "            \n",
    "            x = data['x'];\n",
    "            y = data['y'];\n",
    "            \n",
    "            x_backup = data['x_backup'];\n",
    "            y_backup = data['y_backup'];\n",
    "            \n",
    "            labels = data['desc'];\n",
    "            \n",
    "            if (radio_value == '20') {\n",
    "                for (i = 0; i < x.length; i++) {\n",
    "                    x[i] = x_backup[i];\n",
    "                    y[i] = y_backup[i];\n",
    "                }\n",
    "            }\n",
    "            else {\n",
    "                for (i = 0; i < x.length; i++) {\n",
    "                    if(labels[i] == radio_value) {\n",
    "                        x[i] = x_backup[i];\n",
    "                        y[i] = y_backup[i];\n",
    "                    } else {\n",
    "                        x[i] = undefined;\n",
    "                        y[i] = undefined;\n",
    "                    }\n",
    "                }\n",
    "            }\n",
    "\n",
    "\n",
    "        source.change.emit();\n",
    "        \"\"\")\n",
    "\n",
    "# callback for searchbar\n",
    "keyword_callback = CustomJS(args=dict(p=p, source=source), code=\"\"\"\n",
    "            \n",
    "            var text_value = cb_obj.value;\n",
    "            var data = source.data; \n",
    "            \n",
    "            x = data['x'];\n",
    "            y = data['y'];\n",
    "            \n",
    "            x_backup = data['x_backup'];\n",
    "            y_backup = data['y_backup'];\n",
    "            \n",
    "            abstract = data['abstract'];\n",
    "            titles = data['titles'];\n",
    "            \n",
    "            for (i = 0; i < x.length; i++) {\n",
    "                if(abstract[i].includes(text_value) || \n",
    "                   titles[i].includes(text_value)  {\n",
    "                    x[i] = x_backup[i];\n",
    "                    y[i] = y_backup[i];\n",
    "                } else {\n",
    "                    x[i] = undefined;\n",
    "                    y[i] = undefined;\n",
    "                }\n",
    "            }\n",
    "        source.change.emit();\n",
    "        \"\"\")\n",
    "\n",
    "# option\n",
    "option = RadioButtonGroup(labels=[\"C-0\", \"C-1\", \"C-2\",\n",
    "                                  \"C-3\", \"C-4\", \"All\"], \n",
    "                          active=20, callback=callback)\n",
    "\n",
    "# search box\n",
    "keyword = TextInput(title=\"Search:\", callback=keyword_callback)\n",
    "\n",
    "#header\n",
    "header = Div(text=\"\"\"<h1>Covid-19 Papers</h1>\"\"\")\n",
    "\n",
    "# show\n",
    "show(column(header, widgetbox(option, keyword),p))"
   ]
  },
  {
   "cell_type": "code",
   "execution_count": null,
   "metadata": {},
   "outputs": [],
   "source": []
  }
 ],
 "metadata": {
  "kernelspec": {
   "display_name": "Python 3",
   "language": "python",
   "name": "python3"
  },
  "language_info": {
   "codemirror_mode": {
    "name": "ipython",
    "version": 3
   },
   "file_extension": ".py",
   "mimetype": "text/x-python",
   "name": "python",
   "nbconvert_exporter": "python",
   "pygments_lexer": "ipython3",
   "version": "3.7.4"
  }
 },
 "nbformat": 4,
 "nbformat_minor": 2
}
